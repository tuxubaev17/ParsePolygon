{
 "cells": [
  {
   "cell_type": "code",
   "execution_count": null,
   "metadata": {},
   "outputs": [],
   "source": [
    "from PIL import Image\n",
    "import numpy as np\n",
    "\n",
    "im = Image.open(\"screens/output.png\")\n",
    "rgb_im = im.convert('RGB')\n",
    "color = rgb_im.getcolors()\n",
    "print('Цвета', color)\n",
    "npimage = np.array(rgb_im)\n",
    "\n",
    "path = (254, 0, 0)\n",
    "border_black = (0, 0, 0)\n",
    "gr = (0, 0, 240)\n",
    "b = (255, 255, 255)\n",
    "\n",
    "red = np.array(path)\n",
    "border = np.array(border_black)\n",
    "reds = np.where(np.all((npimage == red), axis=-1))\n",
    "borders = np.where(np.all((npimage == border), axis=-1))\n",
    "print(reds)\n",
    "print(list(borders))"
   ]
  },
  {
   "cell_type": "markdown",
   "metadata": {},
   "source": [
    "### Координаты цветов"
   ]
  },
  {
   "cell_type": "code",
   "execution_count": 12,
   "metadata": {},
   "outputs": [
    {
     "name": "stdout",
     "output_type": "stream",
     "text": [
      "Цвета [(512160, (255, 255, 255)), (39, (0, 0, 128)), (1881, (0, 0, 0))]\n"
     ]
    }
   ],
   "source": [
    "from PIL import Image\n",
    "import numpy as np\n",
    "\n",
    "im = Image.open(\"screens/output.png\")\n",
    "rgb_im = im.convert('RGB')\n",
    "pixels = rgb_im.load()\n",
    "color = rgb_im.getcolors()\n",
    "print('Цвета', color)        \n",
    "\n",
    "magneta = (255, 0, 255)\n",
    "navy = (0, 0, 128)\n",
    "dark_green = (0, 100, 0)\n",
    "path = (254, 0, 0)\n",
    "border_black = (0, 0, 0)\n",
    "blue = (0, 0, 240)\n",
    "\n",
    "rull_points = []\n",
    "for x in range(rgb_im.size[1]):\n",
    "    for y in range(rgb_im.size[0]):\n",
    "        if pixels[y, x] == navy:\n",
    "            coords = y, x\n",
    "            npcoords = np.array(coords)\n",
    "            rull_points.append(npcoords)\n",
    "\n",
    "\n",
    "rgb_im.save('screens/distance.png')\n",
    "rgb_im.show()"
   ]
  },
  {
   "cell_type": "markdown",
   "metadata": {},
   "source": [
    "### Дистанция двух точек\n"
   ]
  },
  {
   "cell_type": "code",
   "execution_count": null,
   "metadata": {},
   "outputs": [],
   "source": [
    "from PIL import Image\n",
    "import numpy as np\n",
    "import math\n",
    "\n",
    "\n",
    "im2 = Image.open('screens/distance.png').convert(\"RGB\")\n",
    "npimage = np.array(im2)\n",
    "\n",
    "magneta = (255, 0, 255)\n",
    "navy = (0, 0, 128)\n",
    "mag = np.array(magneta)\n",
    "nav = np.array(navy)\n",
    "\n",
    "magnetas = np.where(np.all((npimage == mag), axis=-1))\n",
    "navys = np.where(np.all((npimage == nav), axis=-1))\n",
    "\n",
    "dx2 = (navys[0][0] - magnetas[0][0]) ** 2\n",
    "dy2 = (navys[1][0] - magnetas[1][0]) ** 2\n",
    "distance = math.sqrt(dx2 + dy2)\n",
    "\n",
    "print(f'Дистанция: {distance} px')"
   ]
  },
  {
   "cell_type": "markdown",
   "metadata": {},
   "source": [
    "### Отрисовка слоев"
   ]
  },
  {
   "cell_type": "code",
   "execution_count": 23,
   "metadata": {
    "collapsed": true
   },
   "outputs": [
    {
     "name": "stdout",
     "output_type": "stream",
     "text": [
      "225 322799\n",
      "189 90757\n",
      "219 29059\n",
      "182 14160\n",
      "218 11824\n",
      "224 11502\n",
      "181 6335\n",
      "217 5359\n",
      "188 3863\n",
      "183 3771\n",
      "147 2258\n",
      "96 1942\n",
      "118 1549\n",
      "187 1067\n",
      "223 1042\n",
      "139 987\n",
      "153 971\n",
      "53 923\n",
      "175 622\n",
      "168 345\n",
      "119 326\n",
      "132 291\n",
      "174 230\n",
      "126 197\n",
      "140 194\n",
      "125 174\n",
      "60 123\n",
      "90 116\n",
      "131 101\n",
      "154 92\n",
      "95 86\n",
      "169 86\n",
      "133 83\n",
      "146 74\n",
      "161 66\n",
      "97 58\n",
      "145 53\n",
      "209 52\n",
      "0 50\n",
      "155 45\n",
      "21 39\n",
      "176 33\n",
      "211 33\n",
      "208 32\n",
      "138 31\n",
      "167 29\n",
      "212 27\n",
      "103 24\n",
      "102 22\n",
      "203 16\n",
      "162 14\n",
      "210 14\n",
      "63 11\n",
      "105 11\n",
      "216 10\n",
      "27 9\n",
      "202 9\n",
      "54 8\n",
      "59 8\n",
      "137 8\n",
      "124 7\n",
      "180 7\n",
      "173 6\n",
      "11 5\n",
      "16 5\n",
      "47 5\n",
      "17 4\n",
      "152 4\n",
      "104 3\n",
      "160 3\n",
      "82 2\n",
      "89 2\n",
      "141 2\n",
      "46 1\n",
      "52 1\n",
      "62 1\n"
     ]
    }
   ],
   "source": [
    "from operator import itemgetter\n",
    "from PIL import Image\n",
    "\n",
    "\n",
    "im = Image.open(\"screens/screenshot.png\").convert(\"RGB\")\n",
    "im = im.convert(\"P\")\n",
    "im2 = Image.new(\"P\", im.size, 255)\n",
    "\n",
    "his = im.histogram()\n",
    "\n",
    "values = {}\n",
    "\n",
    "for i in range(256):\n",
    "  values[i] = his[i]\n",
    "\n",
    "for j,k in sorted(values.items(), key=itemgetter(1), reverse=True)[:76]:\n",
    "  print(j,k)\n",
    "\n",
    "magneta = (255, 0, 255)\n",
    "yellow = (255, 255, 0)\n",
    "RED = (254, 0, 0)\n",
    "BLACK = (0, 0, 0)\n",
    "border = [118, 125, 161, 154]\n",
    "\n",
    "\n",
    "\n",
    "for x in range(im.size[1]):\n",
    "    for y in range(im.size[0]):\n",
    "        pix = im.getpixel((y, x))\n",
    "        if pix == 169:\n",
    "            im2.putpixel((y, x), RED)\n",
    "\n",
    "im2.save(\"screens/output2.png\")\n",
    "im2.show()"
   ]
  }
 ],
 "metadata": {
  "kernelspec": {
   "display_name": "Python 3",
   "language": "python",
   "name": "python3"
  },
  "language_info": {
   "codemirror_mode": {
    "name": "ipython",
    "version": 3
   },
   "file_extension": ".py",
   "mimetype": "text/x-python",
   "name": "python",
   "nbconvert_exporter": "python",
   "pygments_lexer": "ipython3",
   "version": "3.7.4"
  }
 },
 "nbformat": 4,
 "nbformat_minor": 2
}
